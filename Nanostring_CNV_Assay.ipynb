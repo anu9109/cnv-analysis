{
 "cells": [
  {
   "cell_type": "markdown",
   "metadata": {},
   "source": [
    "# Nanostring CNV Assay - Data Analysis"
   ]
  },
  {
   "cell_type": "markdown",
   "metadata": {},
   "source": [
    "The analysis of data from the Nanostring CNV assay is done by the two scripts below. The first R script outlines the process for one sample and the second bash script runs the analysis for each sample.\n",
    "\n",
    "* The input data is expeceted in the form: sampleID-nanostringCNV-(T/B).RCC\n",
    "* Data is cleaned up as per the manufacturer's recommendation using the positive control, negative control and invariant probes. \n",
    "  * For the step using invariant probes, data from **ALL** samples being analyzed is used to reduce noise. \n",
    "* Copy number estimates are provided per gene and are rounded to the nearest 0.5 fraction."
   ]
  },
  {
   "cell_type": "markdown",
   "metadata": {},
   "source": [
    "#### R script to process single sample"
   ]
  },
  {
   "cell_type": "code",
   "execution_count": null,
   "metadata": {
    "collapsed": true
   },
   "outputs": [],
   "source": [
    "## Script to process data from the Nanostring CNV platform and call copy numbers for tumor-normal samples.\n",
    "\n",
    "# Note: Do not use \"~\" in filepaths in this script - basename matching for 'sf' and 'bg' fails\n",
    "\n",
    "library(plyr)\n",
    "\n",
    "args <- commandArgs(TRUE)\n",
    "prefix = args[1] #/data/storage/patients/cnv\n",
    "sample = args[2] #sampleID\n",
    "\n",
    "tfile <- paste0(prefix, \"/\", sample, \"/\", sample, \"-nanostringCNV-T.RCC\")\n",
    "gfile <- paste0(prefix, \"/\", sample, \"/\", sample, \"-nanostringCNV-B.RCC\")\n",
    "\n",
    "readRaw <- function(file) {\n",
    "  dat <- read.csv2(file, skip=26, sep=',', stringsAsFactors=F)\n",
    "  dat <- dat[1:(dim(dat)[1]-3),]\n",
    "\n",
    "  endo <- subset(dat, CodeClass=='Endogenous')\n",
    "  inv <- subset(dat, CodeClass=='Invariant')\n",
    "  ctrls <- subset(dat, CodeClass=='Positive' | CodeClass=='Negative')\n",
    "  res <- subset(dat, CodeClass=='RestrictionSite')\n",
    "\n",
    "  return(list(endo=endo,\n",
    "              inv=inv,\n",
    "              ctrls=ctrls,\n",
    "              res=res))\n",
    "}\n",
    "\n",
    "## NORMALIZATION\n",
    "# +ve control\n",
    "posCtrls <- sapply(list.files(path = \"/data/storage/patients/cnv\", pattern = \"nanostringCNV.*\\\\.RCC$\", recursive = TRUE, full.names = TRUE), function(i) subset(readRaw(i)$ctrls, CodeClass==\"Positive\")$Count)\n",
    "geomSample <- apply(posCtrls, 2, mean)\n",
    "geomAll <- exp(mean(log(geomSample)))\n",
    "sf <- geomSample / geomAll\n",
    "\n",
    "# -ve control\n",
    "negCtrls <- sapply(list.files(path = \"/data/storage/patients/cnv\", pattern = \"nanostringCNV.*\\\\.RCC$\", recursive = TRUE, full.names = TRUE), function(i) subset(readRaw(i)$ctrls, CodeClass==\"Negative\")$Count)\n",
    "meanSample <- apply(negCtrls, 2, mean)\n",
    "sdSample <- apply(negCtrls, 2, sd)\n",
    "bg <- meanSample + 3 * sdSample\n",
    "\n",
    "# calculating mean INV count across all samples\n",
    "randINVmeancount <- mean(sapply(list.files(path = \"/data/storage/patients/cnv\", pattern = \"nanostringCNV.*\\\\.RCC$\", recursive = TRUE, full.names = TRUE), function(i) mean(readRaw(i)$inv$Count)))\n",
    "\n",
    "# normalizing endogenous counts based on +ve control, -ve control and invariant counts\n",
    "normNS <- function(NSdat, NSfile) {\n",
    "  en <- NSdat$endo\n",
    "  en$Countpos <- NSdat$endo$Count * sf[NSfile]\n",
    "  en$Countneg <- en$Countpos - bg[NSfile]\n",
    "  invnf <- randINVmeancount / mean(NSdat$inv$Count)\n",
    "  en$Count <- en$Countneg* invnf\n",
    "  return(en)\n",
    "}\n",
    "\n",
    "normNSinvar <- function(NSdat, NSfile) {\n",
    "  invar <- NSdat$inv\n",
    "  invar$Countpos <- NSdat$inv$Count * sf[NSfile]\n",
    "  invar$Countneg <- invar$Countpos - bg[NSfile]\n",
    "  invnf <- randINVmeancount / mean(NSdat$inv$Count)\n",
    "  invar$Count <- invar$Countneg* invnf\n",
    "  return(invar)\n",
    "}\n",
    "\n",
    "# normalization across probes\n",
    "averageNS <- function(NSdat) {\n",
    "  return(ddply(NSdat$endo_norm, ~Accession,summarize,mean=mean(Count)))\n",
    "}\n",
    "\n",
    "# tumor/normal ratio per probe\n",
    "ratioNS <- function(tumor, normal) {\n",
    "  ratio <- (tumor$average$mean / normal$average$mean) * 2\n",
    "  names(ratio) <- tumor$average$Accession\n",
    "  return(ratio)\n",
    "}\n",
    "\n",
    "# read in raw RCC files\n",
    "tdat <- readRaw(tfile)\n",
    "gdat <- readRaw(gfile)\n",
    "\n",
    "# invariant normalization\n",
    "tdat$endo_norm <- normNS(tdat, tfile)\n",
    "gdat$endo_norm <- normNS(gdat, gfile)\n",
    "\n",
    "# normalization across probes\n",
    "tdat$average <- averageNS(tdat)\n",
    "gdat$average <- averageNS(gdat)\n",
    "\n",
    "final <- ratioNS(tdat, gdat)\n",
    "final.df <- data.frame(Gene=names(final),Count=as.numeric(final))\n",
    "\n",
    "# round (0.0 - 0.4) to 0 and (0.6 - 1.0) to 1 for Copy Number estimates\n",
    "final.df$CopyNumber <- ifelse(signif(final.df$Count,2)%%0.5 == 0, signif(final.df$Count,2), round_any(final.df$Count,1))\n",
    "\n",
    "write.table(final.df, file=paste0(prefix, \"/\", sample, \"/\", sample, \".nanostringCNV.refined.out\"), sep=\"\\t\", row.names=FALSE, quote=FALSE)"
   ]
  },
  {
   "cell_type": "markdown",
   "metadata": {},
   "source": [
    "#### Bash script to run the analysis in the Pipemaster framework"
   ]
  },
  {
   "cell_type": "code",
   "execution_count": null,
   "metadata": {
    "collapsed": true
   },
   "outputs": [],
   "source": [
    "#!/bin/bash\n",
    "\n",
    "set -x\n",
    "\n",
    "# source modules for current shell\n",
    "source $MODULESHOME/init/bash\n",
    "\n",
    "## INPUTS : $1=sample  $2=CNV_DIR\n",
    "\n",
    "mkdir -p /data/storage/patients/cnv/$1\n",
    "\n",
    "module load R\n",
    "\n",
    "Rscript /home/anu/cnv-analysis/nanostringCNV_refined_PM.R $2 $1\n",
    "\n",
    "exit 0"
   ]
  }
 ],
 "metadata": {
  "kernelspec": {
   "display_name": "Bash",
   "language": "bash",
   "name": "bash"
  },
  "language_info": {
   "codemirror_mode": "shell",
   "file_extension": ".sh",
   "mimetype": "text/x-sh",
   "name": "bash"
  }
 },
 "nbformat": 4,
 "nbformat_minor": 0
}
